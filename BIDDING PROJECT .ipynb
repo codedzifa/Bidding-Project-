{
 "cells": [
  {
   "cell_type": "code",
   "execution_count": 13,
   "id": "7b559e40",
   "metadata": {},
   "outputs": [
    {
     "name": "stdout",
     "output_type": "stream",
     "text": [
      "Welcome to the Auction\n",
      "Enter your name : accra \n",
      "Enter your bid Price : 1000\n",
      "are ther people who want to bid? yes/no : yes\n",
      "Enter your name : tema \n",
      "Enter your bid Price : 1200\n",
      "are ther people who want to bid? yes/no : yes\n",
      "Enter your name : heht \n",
      "Enter your bid Price : 2000\n",
      "are ther people who want to bid? yes/no : no \n",
      "\n",
      "\n",
      "max value : 2000.0\n",
      "\n",
      "Highest Bidders ['heht ']\n",
      "\n",
      "max bidder is heht \n"
     ]
    }
   ],
   "source": [
    "# A simple Bidding app that takes input for peoples names and also take peoples bids as well \n",
    "#16/02/2023\n",
    "\n",
    "#importing a dictionary to clear the screen\n",
    "import os \n",
    "\n",
    "#welcoming our user\n",
    "print(\"Welcome to the Auction\")\n",
    "\n",
    "#intiating the loop with the condition \n",
    "another_bid = \"yes\"\n",
    "\n",
    "#creating an empty distionary that would hold the values of the bids \n",
    "bids = {}\n",
    "\n",
    "#creating the loop to collect dictionary values \n",
    "while another_bid == \"yes\":\n",
    "    bidder_name = input(\"Enter your name : \")\n",
    "    bid_price = float(input(\"Enter your bid Price : \"))\n",
    "    bids[bidder_name] = bid_price\n",
    "    another_bid = input(\"are ther people who want to bid? yes/no : \")\n",
    "    \n",
    "    #clearing screen if there is another bidder \n",
    "    if another_bid ==\"yes\":\n",
    "    os.system(\"cls\")\n",
    "\n",
    "print()\n",
    "print()\n",
    "#find highest bidder when bidding is over \n",
    "max_value = max(bids.values())\n",
    "print(f\"max value : {max_value}\")\n",
    "print()\n",
    "max_bidder_list = [key for key, value in bids.items() if value == max_value]\n",
    "print(f\"Highest Bidders {max_bidder_list}\")\n",
    "print()\n",
    "max_bidder = \"\".join(max_bidder_list)\n",
    "print(f\"max bidder is {max_bidder}\")"
   ]
  }
 ],
 "metadata": {
  "kernelspec": {
   "display_name": "Python 3 (ipykernel)",
   "language": "python",
   "name": "python3"
  },
  "language_info": {
   "codemirror_mode": {
    "name": "ipython",
    "version": 3
   },
   "file_extension": ".py",
   "mimetype": "text/x-python",
   "name": "python",
   "nbconvert_exporter": "python",
   "pygments_lexer": "ipython3",
   "version": "3.10.10"
  }
 },
 "nbformat": 4,
 "nbformat_minor": 5
}
